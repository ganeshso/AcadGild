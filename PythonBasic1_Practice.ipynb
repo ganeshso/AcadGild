{
 "cells": [
  {
   "cell_type": "markdown",
   "metadata": {},
   "source": [
    "## Question 1: Write a Python program to print the following string in a specific format"
   ]
  },
  {
   "cell_type": "raw",
   "metadata": {},
   "source": [
    "Sample String : \"Twinkle, twinkle, little star, How I wonder what you are! Up above the world so high, Like a diamond in the sky. Twinkle, twinkle, little star, How I wonder what you are\" \n",
    "\n",
    "Formatted Output\n",
    "\n",
    "Twinkle, twinkle, little star,\n",
    "    How I wonder what you are! \n",
    "        Up above the world so high,\n",
    "        Like a diamond in the sky. \n",
    "Twinkle, twinkle, little star, \n",
    "    How I wonder what you are"
   ]
  },
  {
   "cell_type": "code",
   "execution_count": 4,
   "metadata": {},
   "outputs": [
    {
     "name": "stdout",
     "output_type": "stream",
     "text": [
      " \n",
      "Twinkle, twinkle, little star,\n",
      "    How I wonder what you are!\n",
      "        Up above the world so high,\n",
      "        Like a diamond in the sky.\n",
      "Twinkle, twinkle, little star,\n",
      "    How I wonder what you are\n"
     ]
    }
   ],
   "source": [
    "str1 = \"\"\" \n",
    "Twinkle, twinkle, little star,\n",
    "    How I wonder what you are!\n",
    "        Up above the world so high,\n",
    "        Like a diamond in the sky.\n",
    "Twinkle, twinkle, little star,\n",
    "    How I wonder what you are\"\"\"\n",
    "print(str1)"
   ]
  },
  {
   "cell_type": "markdown",
   "metadata": {},
   "source": [
    "## Question 2: Write a Python program which accepts the radius of a circle from the user and compute the area. "
   ]
  },
  {
   "cell_type": "raw",
   "metadata": {},
   "source": [
    " \n",
    "Sample Input & Output : \n",
    "r = 1.1 \n",
    "Area = 3.8013271108436504"
   ]
  },
  {
   "cell_type": "code",
   "execution_count": 14,
   "metadata": {},
   "outputs": [
    {
     "name": "stdout",
     "output_type": "stream",
     "text": [
      "3.7994000000000008\n",
      "3.8013271108436504\n"
     ]
    }
   ],
   "source": [
    "import math\n",
    "r = input(\"Enter the radius of of the circle: \")\n",
    "type(r)\n",
    "area = 3.14 * float(r)**2\n",
    "area1 = math.pi * float(r)**2\n",
    "print(area)\n",
    "print(area1)\n"
   ]
  },
  {
   "cell_type": "markdown",
   "metadata": {},
   "source": [
    "## Question 3: Write a Python program to get the difference between a given number and 17, if the number is greater than 17 return double the absolute difference."
   ]
  },
  {
   "cell_type": "code",
   "execution_count": 21,
   "metadata": {},
   "outputs": [
    {
     "name": "stdout",
     "output_type": "stream",
     "text": [
      "19\n",
      "38\n"
     ]
    }
   ],
   "source": [
    "import math\n",
    "num = input(\"Enter a number: \" )\n",
    "diff = int(num) - 17\n",
    "print(diff)\n",
    "if diff > 17:\n",
    "    num = 2* diff\n",
    "    print(num)"
   ]
  },
  {
   "cell_type": "markdown",
   "metadata": {},
   "source": [
    "## Question 4: Write a Python program to find whether a given number (accept from the user) is even or odd, print out an appropriate message to the user. \n"
   ]
  },
  {
   "cell_type": "code",
   "execution_count": 26,
   "metadata": {},
   "outputs": [
    {
     "name": "stdout",
     "output_type": "stream",
     "text": [
      "Even number.\n"
     ]
    }
   ],
   "source": [
    "num = input(\"Enter number :\")\n",
    "num = int(num)\n",
    "if num == 0:\n",
    "    print(\"Number 0 is neither even nor odd number.\")\n",
    "elif num % 2 == 0: \n",
    "    print(\"Even number.\")\n",
    "else:\n",
    "    print(\"Odd number.\")\n"
   ]
  },
  {
   "cell_type": "markdown",
   "metadata": {},
   "source": [
    "## Question 5: Write a Python program to count the number 4 in a given list"
   ]
  },
  {
   "cell_type": "code",
   "execution_count": 40,
   "metadata": {},
   "outputs": [
    {
     "name": "stdout",
     "output_type": "stream",
     "text": [
      "Number of 4 in the list : 3\n"
     ]
    }
   ],
   "source": [
    "l = [2,4,6,5,4,4,3,5,49,44,9]\n",
    "count = 0\n",
    "for i in l:\n",
    "    if i == 4:\n",
    "        count += 1\n",
    "print(\"Number of 4 in the list :\" , count)"
   ]
  },
  {
   "cell_type": "markdown",
   "metadata": {},
   "source": [
    "## Question 6 : Write a Python program to count the number of even and odd numbers from a series of numbers. Go to the editor "
   ]
  },
  {
   "cell_type": "raw",
   "metadata": {},
   "source": [
    "Sample numbers : numbers = (1, 2, 3, 4, 5, 6, 7, 8, 9) \n",
    "Expected Output : \n",
    "Number of even numbers : 5 \n",
    "Number of odd numbers : 4 "
   ]
  },
  {
   "cell_type": "code",
   "execution_count": 38,
   "metadata": {},
   "outputs": [
    {
     "name": "stdout",
     "output_type": "stream",
     "text": [
      "Number of even numbers :  4\n",
      "Number of odd numbers :  5\n"
     ]
    }
   ],
   "source": [
    "numlist = [1, 2, 3, 4, 5, 6, 7, 8, 9]\n",
    "even_count = 0\n",
    "odd_count = 0\n",
    "i = 0\n",
    "while i < len(numlist):\n",
    "    if numlist[i] %2 == 0:\n",
    "        even_count +=1\n",
    "    else:\n",
    "        odd_count += 1\n",
    "    i += 1\n",
    "print(\"Number of even numbers : \" , even_count)\n",
    "print(\"Number of odd numbers : \" , odd_count)\n",
    "    "
   ]
  },
  {
   "cell_type": "code",
   "execution_count": null,
   "metadata": {},
   "outputs": [],
   "source": [
    "l = [1,2,3,4,5]\n",
    "print(len(l))"
   ]
  },
  {
   "cell_type": "markdown",
   "metadata": {},
   "source": [
    "## Question 7: Write a Python program which takes two digits m (row) and n (column) as input and generates a two-dimensional array. The element value in the i-th row and j-th column of the array should be i*j."
   ]
  },
  {
   "cell_type": "code",
   "execution_count": 14,
   "metadata": {},
   "outputs": [
    {
     "name": "stdout",
     "output_type": "stream",
     "text": [
      "[[0, 0, 0], [0, 1, 2], [0, 2, 4], [0, 3, 6]]\n"
     ]
    }
   ],
   "source": [
    "r = int(input(\"Enter the no.of rows : \"))\n",
    "c = int(input(\"Enter the no.of columns :\"))\n",
    "l = []\n",
    "i=0 \n",
    "for i in range(r):\n",
    "    l.append([])\n",
    "    for j in range(c):\n",
    "        l[i].append(i*j)\n",
    "print(l)"
   ]
  },
  {
   "cell_type": "code",
   "execution_count": null,
   "metadata": {},
   "outputs": [],
   "source": []
  }
 ],
 "metadata": {
  "kernelspec": {
   "display_name": "Python 3",
   "language": "python",
   "name": "python3"
  },
  "language_info": {
   "codemirror_mode": {
    "name": "ipython",
    "version": 3
   },
   "file_extension": ".py",
   "mimetype": "text/x-python",
   "name": "python",
   "nbconvert_exporter": "python",
   "pygments_lexer": "ipython3",
   "version": "3.6.4"
  }
 },
 "nbformat": 4,
 "nbformat_minor": 2
}
